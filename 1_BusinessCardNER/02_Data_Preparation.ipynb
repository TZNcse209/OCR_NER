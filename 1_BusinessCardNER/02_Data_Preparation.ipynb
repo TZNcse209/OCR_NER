{
 "cells": [
  {
   "cell_type": "code",
   "execution_count": 1,
   "id": "ac728238",
   "metadata": {},
   "outputs": [],
   "source": [
    "import numpy as np\n",
    "import pandas as pd\n",
    "import cv2\n",
    "import pytesseract\n",
    "\n",
    "import os\n",
    "from glob import glob\n",
    "from tqdm import tqdm\n",
    "\n",
    "import warnings\n",
    "warnings.filterwarnings('ignore')"
   ]
  },
  {
   "cell_type": "code",
   "execution_count": 2,
   "id": "72599922",
   "metadata": {},
   "outputs": [],
   "source": [
    "imgPaths = glob('./Selected/*.jpeg')"
   ]
  },
  {
   "cell_type": "code",
   "execution_count": 12,
   "id": "916771c6",
   "metadata": {},
   "outputs": [
    {
     "name": "stderr",
     "output_type": "stream",
     "text": [
      "BusinessCard: 100%|██████████████████████████████████████████████████████████████████| 293/293 [08:22<00:00,  1.72s/it]\n"
     ]
    }
   ],
   "source": [
    "allBusinessCard = pd.DataFrame(columns=['id','text'])\n",
    "\n",
    "for imgPath in  tqdm(imgPaths,desc='BusinessCard'):\n",
    "    \n",
    "    #imgPath = imgPaths[0]\n",
    "    _, filename = os.path.split(imgPath)\n",
    "    # extract data and text \n",
    "    image = cv2.imread(imgPath)\n",
    "    data = pytesseract.image_to_data(image)\n",
    "    dataList = list(map(lambda x: x.split('\\t'),data.split('\\n')))\n",
    "    df = pd.DataFrame(dataList[1:],columns=dataList[0])\n",
    "    df.dropna(inplace=True)\n",
    "    df['conf'] = df['conf'].astype(int)\n",
    "\n",
    "    useFulData = df.query('conf >= 30')\n",
    "\n",
    "    # Dataframe\n",
    "    businessCard = pd.DataFrame()\n",
    "    businessCard['text'] = useFulData['text']\n",
    "    businessCard['id'] = filename\n",
    "    \n",
    "    # concatenation\n",
    "    allBusinessCard = pd.concat((allBusinessCard,businessCard))"
   ]
  },
  {
   "cell_type": "code",
   "execution_count": 15,
   "id": "f8f71d81",
   "metadata": {},
   "outputs": [],
   "source": [
    "allBusinessCard.to_csv('businessCard.csv',index=False)"
   ]
  },
  {
   "cell_type": "code",
   "execution_count": null,
   "id": "05c650b6",
   "metadata": {},
   "outputs": [],
   "source": []
  },
  {
   "cell_type": "code",
   "execution_count": null,
   "id": "a6cf2563",
   "metadata": {},
   "outputs": [],
   "source": []
  },
  {
   "cell_type": "code",
   "execution_count": null,
   "id": "d3c64abb",
   "metadata": {},
   "outputs": [],
   "source": []
  },
  {
   "cell_type": "code",
   "execution_count": null,
   "id": "0314560d",
   "metadata": {},
   "outputs": [],
   "source": []
  }
 ],
 "metadata": {
  "kernelspec": {
   "display_name": "Python 3 (ipykernel)",
   "language": "python",
   "name": "python3"
  },
  "language_info": {
   "codemirror_mode": {
    "name": "ipython",
    "version": 3
   },
   "file_extension": ".py",
   "mimetype": "text/x-python",
   "name": "python",
   "nbconvert_exporter": "python",
   "pygments_lexer": "ipython3",
   "version": "3.9.6"
  }
 },
 "nbformat": 4,
 "nbformat_minor": 5
}
